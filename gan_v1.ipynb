{
 "cells": [
  {
   "cell_type": "markdown",
   "metadata": {},
   "source": [
    "## Prerequisites"
   ]
  },
  {
   "cell_type": "code",
   "execution_count": null,
   "metadata": {},
   "outputs": [],
   "source": [
    "import pandas as pd\n",
    "import numpy as np\n",
    "import matplotlib.pyplot as plt"
   ]
  },
  {
   "cell_type": "markdown",
   "metadata": {},
   "source": [
    "## Observation of data"
   ]
  },
  {
   "cell_type": "markdown",
   "metadata": {},
   "source": [
    "Let's see how our data look like"
   ]
  },
  {
   "cell_type": "code",
   "execution_count": null,
   "metadata": {},
   "outputs": [],
   "source": [
    "train_data = pd.read_csv('data/train.csv', header=None)"
   ]
  },
  {
   "cell_type": "code",
   "execution_count": null,
   "metadata": {},
   "outputs": [],
   "source": [
    "train_data"
   ]
  },
  {
   "cell_type": "code",
   "execution_count": null,
   "metadata": {},
   "outputs": [],
   "source": [
    "X = np.array(train_data.drop(labels=0, axis=1))\n",
    "X.shape"
   ]
  },
  {
   "cell_type": "code",
   "execution_count": null,
   "metadata": {},
   "outputs": [],
   "source": [
    "data_dim = X.shape[1]"
   ]
  },
  {
   "cell_type": "markdown",
   "metadata": {},
   "source": [
    "### Definition of GAN models"
   ]
  },
  {
   "cell_type": "code",
   "execution_count": null,
   "metadata": {},
   "outputs": [],
   "source": [
    "import torch\n",
    "import torch.nn as nn"
   ]
  },
  {
   "cell_type": "code",
   "execution_count": null,
   "metadata": {},
   "outputs": [],
   "source": [
    "if torch.cuda.is_available():\n",
    "    print('You use GPU !')\n",
    "    device = torch.device('cuda')\n",
    "else:\n",
    "    print('You use CPU !')\n",
    "    device = torch.device('cpu')"
   ]
  },
  {
   "cell_type": "code",
   "execution_count": null,
   "metadata": {},
   "outputs": [],
   "source": [
    "# Generative model\n",
    "def make_generator(noise_dim):\n",
    "    return nn.Sequential(\n",
    "        nn.Linear(in_features=noise_dim, out_features=256),\n",
    "        nn.BatchNorm1d(256),\n",
    "        nn.LeakyReLU(),\n",
    "        \n",
    "        nn.Linear(in_features=256, out_features=128),\n",
    "        nn.BatchNorm1d(128),\n",
    "        nn.LeakyReLU(),\n",
    "        \n",
    "        nn.Linear(in_features=128, out_features=data_dim),\n",
    "        nn.ReLU(),\n",
    "    )\n",
    "\n",
    "\n",
    "# Discriminative model\n",
    "def make_discriminator():\n",
    "    return nn.Sequential(\n",
    "        nn.Linear(in_features=data_dim, out_features=256),\n",
    "        nn.BatchNorm1d(256),\n",
    "        nn.ReLU(),\n",
    "        \n",
    "        nn.Linear(in_features=256, out_features=64),\n",
    "        nn.BatchNorm1d(64),\n",
    "        nn.ReLU(),\n",
    "        \n",
    "        nn.Linear(in_features=64, out_features=2)\n",
    "    )"
   ]
  },
  {
   "cell_type": "code",
   "execution_count": null,
   "metadata": {},
   "outputs": [],
   "source": [
    "noise_dim = 100\n",
    "generator = make_generator(noise_dim=noise_dim).to(device)\n",
    "discriminator = make_discriminator().to(device)"
   ]
  },
  {
   "cell_type": "code",
   "execution_count": null,
   "metadata": {},
   "outputs": [],
   "source": [
    "generator"
   ]
  },
  {
   "cell_type": "code",
   "execution_count": null,
   "metadata": {},
   "outputs": [],
   "source": [
    "discriminator"
   ]
  },
  {
   "cell_type": "markdown",
   "metadata": {},
   "source": [
    "## Training"
   ]
  },
  {
   "cell_type": "markdown",
   "metadata": {},
   "source": [
    "Split dataset into training data and evaluation data"
   ]
  },
  {
   "cell_type": "code",
   "execution_count": null,
   "metadata": {},
   "outputs": [],
   "source": [
    "eval_rate = 0.2"
   ]
  },
  {
   "cell_type": "code",
   "execution_count": null,
   "metadata": {},
   "outputs": [],
   "source": [
    "X = torch.tensor(X, dtype=torch.float)\n",
    "eval_index = int(X.shape[0] * (1 - eval_rate))\n",
    "X_train = X[0: eval_index]\n",
    "X_eval = X[eval_index:]"
   ]
  },
  {
   "cell_type": "markdown",
   "metadata": {},
   "source": [
    "Create dataloaders"
   ]
  },
  {
   "cell_type": "code",
   "execution_count": null,
   "metadata": {},
   "outputs": [],
   "source": [
    "batch_size = 64\n",
    "\n",
    "X_train_loader = torch.utils.data.DataLoader(X_train, batch_size, shuffle=True)\n",
    "X_eval_loader = torch.utils.data.DataLoader(X_eval, batch_size, shuffle=True)"
   ]
  },
  {
   "cell_type": "markdown",
   "metadata": {},
   "source": [
    "We choose Adam Optimizer ($\\beta_1 = 0.9$, $\\beta_2 = 0.999$)"
   ]
  },
  {
   "cell_type": "code",
   "execution_count": null,
   "metadata": {},
   "outputs": [],
   "source": [
    "num_epochs = 500\n",
    "lr = 0.001\n",
    "gen_optimizer = torch.optim.Adam(generator.parameters(), lr=lr)\n",
    "disc_optimizer = torch.optim.Adam(discriminator.parameters(), lr=lr)\n",
    "\n",
    "criterion = torch.nn.CrossEntropyLoss()"
   ]
  },
  {
   "cell_type": "code",
   "execution_count": null,
   "metadata": {
    "code_folding": []
   },
   "outputs": [],
   "source": [
    "for i in range(num_epochs):\n",
    "    print(f'Epoch {i+1}\\t', end='')\n",
    "    disc_losses = []\n",
    "    gen_losses = []\n",
    "    for true_data in X_train_loader:\n",
    "        #### DISCRIMINATOR OPTMIZATION ####\n",
    "        n_data = true_data.shape[0]\n",
    "        \n",
    "        discriminator.train() # Unfreeze parameters of the discriminator\n",
    "        generator.eval() # Freeze parameters of the generator\n",
    "        \n",
    "        disc_optimizer.zero_grad()\n",
    "        \n",
    "        true_x = true_data.to(device) # true data from the training dataset\n",
    "        noise = torch.randn(n_data, noise_dim).to(device)\n",
    "        fake_x = generator(noise).detach() # fake data from the noise distribution ~ N(0, 1)\n",
    "\n",
    "        x = torch.cat([true_x, fake_x]) # Gather true and fake data\n",
    "        \n",
    "        \n",
    "        true_y = torch.ones((n_data,), dtype=torch.long).to(device) # target 1 for true data\n",
    "        fake_y = torch.zeros((n_data,), dtype=torch.long).to(device) # target 0 for fake data\n",
    "        \n",
    "        y = torch.cat([true_y, fake_y]) # Gather true and fake targets\n",
    "        \n",
    "        \n",
    "        \n",
    "        output = discriminator(x)\n",
    "        \n",
    "        disc_loss = criterion(output, y) # Penalize Discriminator for failing to distinguish fake data from true data\n",
    "        disc_losses.append(disc_loss.item())\n",
    "        \n",
    "        disc_loss.backward()\n",
    "        \n",
    "        \n",
    "        disc_optimizer.step() # Optimize Discriminator\n",
    "        \n",
    "        \n",
    "        \n",
    "        ### GENERATOR OPTIMIZATION ###\n",
    "        n_data = true_data.shape[0] * 2\n",
    "    \n",
    "        discriminator.eval() # Freeze parameters of the discriminator\n",
    "        generator.train() # Unfreeze parameters of the generator\n",
    "\n",
    "        gen_optimizer.zero_grad()\n",
    "        \n",
    "        \n",
    "        noise = torch.randn(n_data, noise_dim).to(device)\n",
    "        fake_x = generator(noise) # fake data from the noise distribution ~ N(0, 1)\n",
    "        \n",
    "        true_y = torch.ones((n_data,), dtype=torch.long).to(device) # target 1 for true data\n",
    "        \n",
    "        output = discriminator(fake_x)\n",
    "        \n",
    "        gen_loss = criterion(output, true_y) # Penalize Generator for failing to fool the discriminator\n",
    "        gen_losses.append(gen_loss.item())\n",
    "        \n",
    "        gen_loss.backward()\n",
    "        \n",
    "\n",
    "        gen_optimizer.step() # Optimize Generator      \n",
    "    \n",
    "    \n",
    "    disc_loss = np.mean(disc_losses)\n",
    "    gen_loss = np.mean(gen_losses)\n",
    "    \n",
    "    print(f'Disc. loss: {disc_loss}\\t', end='')\n",
    "    print(f'Gen. loss: {gen_loss}')\n",
    "    "
   ]
  },
  {
   "cell_type": "code",
   "execution_count": null,
   "metadata": {},
   "outputs": [],
   "source": [
    "discriminator.eval()\n",
    "generator.eval()"
   ]
  },
  {
   "cell_type": "code",
   "execution_count": null,
   "metadata": {},
   "outputs": [],
   "source": [
    "discriminator(generator(torch.randn(batch_size, noise_dim).to(device))).argmax(dim=1)"
   ]
  },
  {
   "cell_type": "code",
   "execution_count": null,
   "metadata": {},
   "outputs": [],
   "source": [
    "discriminator(X_eval.to(device)).argmax(dim=1)"
   ]
  },
  {
   "cell_type": "code",
   "execution_count": null,
   "metadata": {},
   "outputs": [],
   "source": []
  }
 ],
 "metadata": {
  "kernelspec": {
   "display_name": "Python 3",
   "language": "python",
   "name": "python3"
  },
  "language_info": {
   "codemirror_mode": {
    "name": "ipython",
    "version": 3
   },
   "file_extension": ".py",
   "mimetype": "text/x-python",
   "name": "python",
   "nbconvert_exporter": "python",
   "pygments_lexer": "ipython3",
   "version": "3.8.10"
  }
 },
 "nbformat": 4,
 "nbformat_minor": 4
}
