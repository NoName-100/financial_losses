{
 "cells": [
  {
   "cell_type": "code",
   "execution_count": 1,
   "id": "ba491623-e77d-4ab3-a815-cdacd9b9fed8",
   "metadata": {},
   "outputs": [],
   "source": [
    "import numpy as np\n",
    "import pandas as pd\n",
    "import pickle\n",
    "\n",
    "import seaborn as sns\n",
    "\n",
    "z_dim = 4"
   ]
  },
  {
   "cell_type": "code",
   "execution_count": 2,
   "id": "f06951e5-8c60-4c1b-a46c-97be21d15d9f",
   "metadata": {},
   "outputs": [],
   "source": [
    "import warnings\n",
    "warnings.filterwarnings(\"ignore\")"
   ]
  },
  {
   "cell_type": "code",
   "execution_count": 3,
   "id": "8eb5bd09-9acc-405e-9ba4-e58b8a17e0da",
   "metadata": {},
   "outputs": [],
   "source": [
    "import random\n",
    "random.seed(41)\n",
    "np.random.seed(41)"
   ]
  },
  {
   "cell_type": "code",
   "execution_count": 4,
   "id": "5c1eac59-4331-43e8-a4f6-baff3e3c2f3e",
   "metadata": {},
   "outputs": [],
   "source": [
    "def train(train_data, power):\n",
    "    X = train_data ** (1 / power)\n",
    "    mu = np.mean(X, axis=0)\n",
    "    cov = np.cov(X.T)\n",
    "    B = np.linalg.cholesky(cov)\n",
    "    return mu, B, power\n",
    "\n",
    "\n",
    "def generator(theta, Z):\n",
    "    mu, B, power = theta\n",
    "    generated_data = (mu + np.dot(Z, B.T)) ** power\n",
    "    return generated_data"
   ]
  },
  {
   "cell_type": "code",
   "execution_count": 5,
   "id": "1906b2c1-0bad-480b-aa3c-fe7f3529b771",
   "metadata": {},
   "outputs": [],
   "source": [
    "np.set_printoptions(2)"
   ]
  },
  {
   "cell_type": "code",
   "execution_count": 6,
   "id": "1a20503d-ce11-4750-a0cf-e625f0d7a1a7",
   "metadata": {},
   "outputs": [
    {
     "data": {
      "text/plain": [
       "array([1.  , 1.13, 1.26, 1.38, 1.51])"
      ]
     },
     "execution_count": 6,
     "metadata": {},
     "output_type": "execute_result"
    }
   ],
   "source": [
    "powers = np.linspace(1, 20, 150)\n",
    "powers[:5]"
   ]
  },
  {
   "cell_type": "code",
   "execution_count": 7,
   "id": "406443c5-e782-48fd-a16f-a694c5f8aa83",
   "metadata": {},
   "outputs": [
    {
     "data": {
      "text/html": [
       "<div>\n",
       "<style scoped>\n",
       "    .dataframe tbody tr th:only-of-type {\n",
       "        vertical-align: middle;\n",
       "    }\n",
       "\n",
       "    .dataframe tbody tr th {\n",
       "        vertical-align: top;\n",
       "    }\n",
       "\n",
       "    .dataframe thead th {\n",
       "        text-align: right;\n",
       "    }\n",
       "</style>\n",
       "<table border=\"1\" class=\"dataframe\">\n",
       "  <thead>\n",
       "    <tr style=\"text-align: right;\">\n",
       "      <th></th>\n",
       "      <th>1</th>\n",
       "      <th>2</th>\n",
       "      <th>3</th>\n",
       "      <th>4</th>\n",
       "    </tr>\n",
       "    <tr>\n",
       "      <th>0</th>\n",
       "      <th></th>\n",
       "      <th></th>\n",
       "      <th></th>\n",
       "      <th></th>\n",
       "    </tr>\n",
       "  </thead>\n",
       "  <tbody>\n",
       "    <tr>\n",
       "      <th>0</th>\n",
       "      <td>0.012495</td>\n",
       "      <td>0.011126</td>\n",
       "      <td>0.003252</td>\n",
       "      <td>0.006625</td>\n",
       "    </tr>\n",
       "    <tr>\n",
       "      <th>1</th>\n",
       "      <td>0.011439</td>\n",
       "      <td>0.002691</td>\n",
       "      <td>0.001206</td>\n",
       "      <td>0.006947</td>\n",
       "    </tr>\n",
       "    <tr>\n",
       "      <th>2</th>\n",
       "      <td>0.000632</td>\n",
       "      <td>0.007277</td>\n",
       "      <td>0.004049</td>\n",
       "      <td>0.000074</td>\n",
       "    </tr>\n",
       "    <tr>\n",
       "      <th>3</th>\n",
       "      <td>0.017828</td>\n",
       "      <td>0.028210</td>\n",
       "      <td>0.007758</td>\n",
       "      <td>0.007382</td>\n",
       "    </tr>\n",
       "    <tr>\n",
       "      <th>4</th>\n",
       "      <td>0.021115</td>\n",
       "      <td>0.019642</td>\n",
       "      <td>0.009238</td>\n",
       "      <td>0.011499</td>\n",
       "    </tr>\n",
       "  </tbody>\n",
       "</table>\n",
       "</div>"
      ],
      "text/plain": [
       "          1         2         3         4\n",
       "0                                        \n",
       "0  0.012495  0.011126  0.003252  0.006625\n",
       "1  0.011439  0.002691  0.001206  0.006947\n",
       "2  0.000632  0.007277  0.004049  0.000074\n",
       "3  0.017828  0.028210  0.007758  0.007382\n",
       "4  0.021115  0.019642  0.009238  0.011499"
      ]
     },
     "execution_count": 7,
     "metadata": {},
     "output_type": "execute_result"
    }
   ],
   "source": [
    "train_data = pd.read_csv(\"./data/train.csv\",header=None, index_col=0)\n",
    "train_data.head()"
   ]
  },
  {
   "cell_type": "code",
   "execution_count": 8,
   "id": "09d46fe9-8448-47a7-b02e-1bb683824375",
   "metadata": {},
   "outputs": [],
   "source": [
    "def marginals_anderson_darling(data, generated):\n",
    "    scores = []\n",
    "    for k in range(data.shape[1]):\n",
    "        data_i = data[:, k]\n",
    "        generated_i = generated[:, k]\n",
    "        \n",
    "        n = len(data_i)\n",
    "        \n",
    "        concordances = np.array([\n",
    "            np.sum(\n",
    "                data_i <= j\n",
    "            )+1 for j in generated_i\n",
    "        ])\n",
    "        \n",
    "        \n",
    "        concordances = concordances / (n+2)\n",
    "        \n",
    "        error = -n -(1/n) * np.sum([\n",
    "            (2*i-1) * (np.log(concordances[i-1]) + np.log(1-concordances[n - i])) for i in range(1, n+1)\n",
    "        ])\n",
    "        \n",
    "        scores.append(error)\n",
    "    return np.mean(scores)"
   ]
  },
  {
   "cell_type": "code",
   "execution_count": 9,
   "id": "655fe4bd-4b72-46b4-9462-ae9d3cd55d05",
   "metadata": {},
   "outputs": [],
   "source": [
    "def absolute_kendall_error(data, generated):\n",
    "    res = 0\n",
    "    n = data.shape[0] # 410 or 408\n",
    "    d = data.shape[1] # 4\n",
    "    for i in range(n):\n",
    "        data_i = np.concatenate([data[:i], data[(i+1):]])\n",
    "        generated_i = np.concatenate([generated[:i], generated[(i+1):]])\n",
    "        \n",
    "        Zi = np.mean(np.sum(data_i < data[i], axis=1)==d)\n",
    "        Zti = np.mean(np.sum(generated_i < generated[i], axis=1)==d)\n",
    "        \n",
    "        res += abs(Zti - Zi)\n",
    "    return res/n"
   ]
  },
  {
   "cell_type": "code",
   "execution_count": 10,
   "id": "cc024a7e-81c2-4119-9926-34e257e2bb14",
   "metadata": {},
   "outputs": [],
   "source": [
    "eval_set = 0.5\n",
    "\n",
    "eval_index = int(train_data.shape[0] * (1 - eval_set))\n",
    "X_train = train_data[: -410]\n",
    "X_eval = train_data[410:]"
   ]
  },
  {
   "cell_type": "code",
   "execution_count": 11,
   "id": "bd091eae-5243-47a7-9f5d-3ca702baae41",
   "metadata": {},
   "outputs": [],
   "source": [
    "import gc\n",
    "from tqdm import tqdm"
   ]
  },
  {
   "cell_type": "code",
   "execution_count": 12,
   "id": "05beda99-ac48-46ca-b1ec-46ff56d52995",
   "metadata": {},
   "outputs": [
    {
     "name": "stderr",
     "output_type": "stream",
     "text": [
      "100%|██████████| 150/150 [02:00<00:00,  1.24it/s, power=20, abs_ken_err=0.213, marg_and=365]  \n"
     ]
    }
   ],
   "source": [
    "scores = []\n",
    "zeros = np.zeros(z_dim)\n",
    "ident = np.eye(z_dim)\n",
    "\n",
    "tk = tqdm(powers)\n",
    "for power in tk:\n",
    "    gc.collect()\n",
    "    score_p = []\n",
    "    for i in range(30):\n",
    "        Z = np.random.multivariate_normal(zeros, ident, X_eval.shape[0])\n",
    "        generated_data = generator(train(X_train.values, power), Z)\n",
    "        score1 = absolute_kendall_error(X_eval.values, generated_data)\n",
    "        score2 = marginals_anderson_darling(X_eval.values, generated_data)\n",
    "        score_p.append([score1, score2])\n",
    "    score_p = np.mean(score_p, axis=0)\n",
    "    score1, score2 = tuple(score_p)\n",
    "    tk.set_postfix({\"power\": power, \"abs_ken_err\": score1, \"marg_and\":score2})\n",
    "    scores.append([score1, score2])"
   ]
  },
  {
   "cell_type": "code",
   "execution_count": 13,
   "id": "5a9da982-5900-4c9b-84d8-6e3f9f5ea0bf",
   "metadata": {},
   "outputs": [],
   "source": [
    "import matplotlib.pyplot as plt"
   ]
  },
  {
   "cell_type": "raw",
   "id": "eef99ce9-dab8-4edd-b75c-1725ca3ff6b6",
   "metadata": {},
   "source": [
    "fig, ax = plt.subplots()\n",
    "ax.plot(powers, scores)\n",
    "plt.show()"
   ]
  },
  {
   "cell_type": "code",
   "execution_count": null,
   "id": "c324ab79-6d79-4a26-8da1-ffcca7f612a9",
   "metadata": {},
   "outputs": [],
   "source": []
  },
  {
   "cell_type": "code",
   "execution_count": 14,
   "id": "ac7d204a-d98b-4e7a-b869-8f8218ae49a2",
   "metadata": {},
   "outputs": [
    {
     "data": {
      "image/png": "[encoded data removed]",
      "text/plain": [
       "<Figure size 1008x504 with 2 Axes>"
      ]
     },
     "metadata": {
      "needs_background": "light"
     },
     "output_type": "display_data"
    }
   ],
   "source": [
    "fig = plt.figure(figsize=(14, 7))\n",
    "ax1 = fig.add_subplot(121)\n",
    "ax2 = fig.add_subplot(122)\n",
    "ax1.title.set_text('Kendall Error')\n",
    "ax2.title.set_text('Anderson Darling')\n",
    "ax1.plot(powers, np.array(scores)[:, 0])\n",
    "ax2.plot(powers, np.array(scores)[:, 1])\n",
    "plt.show()"
   ]
  },
  {
   "cell_type": "code",
   "execution_count": 15,
   "id": "bdf646c6-7796-4a08-a243-d47e03ea8826",
   "metadata": {},
   "outputs": [],
   "source": [
    "def display_data(fake_data, train_data):\n",
    "    fake_data = pd.DataFrame(fake_data)\n",
    "    fake_data.head()\n",
    "\n",
    "    train_data = pd.DataFrame(train_data)\n",
    "    train_data.head()\n",
    "\n",
    "    fake_data[\"label\"] = 1\n",
    "    train_data[\"label\"] = 0\n",
    "    \n",
    "    data = pd.concat([fake_data, train_data])\n",
    "\n",
    "    sns.pairplot(data, hue='label')"
   ]
  },
  {
   "cell_type": "raw",
   "id": "94f46cb0-54d4-4a91-9b87-9509298bce7c",
   "metadata": {},
   "source": [
    "for b in powers[best_pow][:10]:\n",
    "    zeros = np.zeros(z_dim)\n",
    "    ident = np.eye(z_dim)\n",
    "    Z = np.random.multivariate_normal(zeros, ident, X_eval.shape[0])\n",
    "    generated_data = generator(train(X_train.values, b), Z)\n",
    "    \n",
    "    display_data(generated_data, X_eval.values)"
   ]
  },
  {
   "cell_type": "code",
   "execution_count": null,
   "id": "5887ac9f-bc3b-46b5-b6cd-c3eaba90d8ad",
   "metadata": {},
   "outputs": [],
   "source": [
    "scores = np.array(scores)"
   ]
  }
 ],
 "metadata": {
  "kernelspec": {
   "display_name": "Python 3",
   "language": "python",
   "name": "python3"
  },
  "language_info": {
   "codemirror_mode": {
    "name": "ipython",
    "version": 3
   },
   "file_extension": ".py",
   "mimetype": "text/x-python",
   "name": "python",
   "nbconvert_exporter": "python",
   "pygments_lexer": "ipython3",
   "version": "3.8.8"
  }
 },
 "nbformat": 4,
 "nbformat_minor": 5
}
