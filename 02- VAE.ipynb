{
 "cells": [
  {
   "cell_type": "markdown",
   "id": "9c68fe5b-d55e-468c-b06e-90d3a660c4c7",
   "metadata": {},
   "source": [
    "## Install if necessary torchnet and torch"
   ]
  },
  {
   "cell_type": "markdown",
   "id": "0a95377d-de70-4818-ba51-45576d90972f",
   "metadata": {},
   "source": [
    "!pip install torch --user\n",
    "!pip install torchnet --user"
   ]
  },
  {
   "cell_type": "markdown",
   "id": "0d713b26-7bda-46af-9968-bf8eeede4f6f",
   "metadata": {},
   "source": [
    "## Load library"
   ]
  },
  {
   "cell_type": "code",
   "execution_count": 1,
   "id": "750416d1-f52b-45b0-af0b-0c0b84f46655",
   "metadata": {},
   "outputs": [],
   "source": [
    "import pandas as pd\n",
    "import numpy as np\n",
    "import matplotlib.pyplot as plt\n",
    "from tqdm import tqdm\n",
    "\n",
    "import torch\n",
    "import torch.nn.functional as F\n",
    "\n",
    "from torch.utils.data import DataLoader\n",
    "from torchnet import meter\n",
    "\n",
    "from torch.optim import Adam\n",
    "\n",
    "from vae import VAE"
   ]
  },
  {
   "cell_type": "markdown",
   "id": "ae394847-e6a4-4736-8692-903e1f6314be",
   "metadata": {},
   "source": [
    "## VAE"
   ]
  },
  {
   "cell_type": "markdown",
   "id": "3736433c-c106-4c2c-88ce-0c97fc00b532",
   "metadata": {},
   "source": [
    "Learn more [here](https://towardsdatascience.com/understanding-variational-autoencoders-vaes-f70510919f73)\n",
    "\n",
    "Code source [here](https://github.com/shib0li/VAE-torch)"
   ]
  },
  {
   "cell_type": "markdown",
   "id": "8b39b5e3-cf56-412f-a93e-9d63eac567f1",
   "metadata": {},
   "source": [
    "![](https://miro.medium.com/max/1400/1*Q5dogodt3wzKKktE0v3dMQ@2x.png)"
   ]
  },
  {
   "cell_type": "markdown",
   "id": "88147637-545a-46c0-906e-c95ac961895c",
   "metadata": {},
   "source": [
    "## Load data and split into train and test set"
   ]
  },
  {
   "cell_type": "code",
   "execution_count": 2,
   "id": "79014ca2-c32d-40a7-9b37-41cf541c6e58",
   "metadata": {},
   "outputs": [
    {
     "data": {
      "text/html": [
       "<div>\n",
       "<style scoped>\n",
       "    .dataframe tbody tr th:only-of-type {\n",
       "        vertical-align: middle;\n",
       "    }\n",
       "\n",
       "    .dataframe tbody tr th {\n",
       "        vertical-align: top;\n",
       "    }\n",
       "\n",
       "    .dataframe thead th {\n",
       "        text-align: right;\n",
       "    }\n",
       "</style>\n",
       "<table border=\"1\" class=\"dataframe\">\n",
       "  <thead>\n",
       "    <tr style=\"text-align: right;\">\n",
       "      <th></th>\n",
       "      <th>1</th>\n",
       "      <th>2</th>\n",
       "      <th>3</th>\n",
       "      <th>4</th>\n",
       "    </tr>\n",
       "    <tr>\n",
       "      <th>0</th>\n",
       "      <th></th>\n",
       "      <th></th>\n",
       "      <th></th>\n",
       "      <th></th>\n",
       "    </tr>\n",
       "  </thead>\n",
       "  <tbody>\n",
       "    <tr>\n",
       "      <th>0</th>\n",
       "      <td>0.012495</td>\n",
       "      <td>0.011126</td>\n",
       "      <td>0.003252</td>\n",
       "      <td>0.006625</td>\n",
       "    </tr>\n",
       "    <tr>\n",
       "      <th>1</th>\n",
       "      <td>0.011439</td>\n",
       "      <td>0.002691</td>\n",
       "      <td>0.001206</td>\n",
       "      <td>0.006947</td>\n",
       "    </tr>\n",
       "    <tr>\n",
       "      <th>2</th>\n",
       "      <td>0.000632</td>\n",
       "      <td>0.007277</td>\n",
       "      <td>0.004049</td>\n",
       "      <td>0.000074</td>\n",
       "    </tr>\n",
       "    <tr>\n",
       "      <th>3</th>\n",
       "      <td>0.017828</td>\n",
       "      <td>0.028210</td>\n",
       "      <td>0.007758</td>\n",
       "      <td>0.007382</td>\n",
       "    </tr>\n",
       "    <tr>\n",
       "      <th>4</th>\n",
       "      <td>0.021115</td>\n",
       "      <td>0.019642</td>\n",
       "      <td>0.009238</td>\n",
       "      <td>0.011499</td>\n",
       "    </tr>\n",
       "  </tbody>\n",
       "</table>\n",
       "</div>"
      ],
      "text/plain": [
       "          1         2         3         4\n",
       "0                                        \n",
       "0  0.012495  0.011126  0.003252  0.006625\n",
       "1  0.011439  0.002691  0.001206  0.006947\n",
       "2  0.000632  0.007277  0.004049  0.000074\n",
       "3  0.017828  0.028210  0.007758  0.007382\n",
       "4  0.021115  0.019642  0.009238  0.011499"
      ]
     },
     "execution_count": 2,
     "metadata": {},
     "output_type": "execute_result"
    }
   ],
   "source": [
    "df = pd.read_csv('data/train.csv', header=None, index_col=0)\n",
    "df.head()"
   ]
  },
  {
   "cell_type": "code",
   "execution_count": 3,
   "id": "927f2fe5-bf2c-433d-9fbe-68c2eb12c3e6",
   "metadata": {},
   "outputs": [],
   "source": [
    "X = df.values\n",
    "data_dim = X.shape[1]"
   ]
  },
  {
   "cell_type": "code",
   "execution_count": 4,
   "id": "e93ef136-de23-419b-9742-dccbe7cfe3aa",
   "metadata": {},
   "outputs": [],
   "source": [
    "eval_rate = 0.5"
   ]
  },
  {
   "cell_type": "code",
   "execution_count": 5,
   "id": "88c846da-07f0-4f45-8564-1d2c20512a35",
   "metadata": {
    "tags": []
   },
   "outputs": [
    {
     "data": {
      "text/plain": [
       "(torch.Size([373, 4]), torch.Size([373, 4]))"
      ]
     },
     "execution_count": 5,
     "metadata": {},
     "output_type": "execute_result"
    }
   ],
   "source": [
    "X = torch.tensor(X, dtype=torch.float)\n",
    "eval_index = int(X.shape[0] * (1 - eval_rate))\n",
    "\n",
    "train_data = X[0: eval_index]\n",
    "test_data = X[eval_index:]\n",
    "\n",
    "train_data.shape, test_data.shape"
   ]
  },
  {
   "cell_type": "code",
   "execution_count": 6,
   "id": "a00aaa62-4a57-4034-b781-aa9093b0b819",
   "metadata": {},
   "outputs": [
    {
     "name": "stdout",
     "output_type": "stream",
     "text": [
      "You use GPU !\n"
     ]
    }
   ],
   "source": [
    "if torch.cuda.is_available():\n",
    "    print('You use GPU !')\n",
    "    device = torch.device('cuda')\n",
    "else:\n",
    "    print('You use CPU !')\n",
    "    device = torch.device('cpu')"
   ]
  },
  {
   "cell_type": "markdown",
   "id": "ed482981-1bcd-4f4d-914f-5672308ac9a3",
   "metadata": {},
   "source": [
    "## Model configuration"
   ]
  },
  {
   "cell_type": "code",
   "execution_count": 7,
   "id": "887c1251-b577-443c-ad8f-4e465ade376f",
   "metadata": {},
   "outputs": [],
   "source": [
    "in_dim = X.shape[1]\n",
    "encoder_width = 256\n",
    "decoder_width = 256\n",
    "latent_dim = 64"
   ]
  },
  {
   "cell_type": "code",
   "execution_count": 8,
   "id": "143a3727-f285-469c-b4b9-e6fb7d18e799",
   "metadata": {},
   "outputs": [],
   "source": [
    "batch_size=16\n",
    "max_epoch=1000\n",
    "lr= 0.001\n",
    "weight_decay = 0.0075"
   ]
  },
  {
   "cell_type": "markdown",
   "id": "d3e27d37-d8f6-404a-8d2c-be405e76ac30",
   "metadata": {},
   "source": [
    "## Train"
   ]
  },
  {
   "cell_type": "code",
   "execution_count": 9,
   "id": "89d24d8f-cf07-4e74-99cc-dc5c058f53d7",
   "metadata": {},
   "outputs": [
    {
     "name": "stderr",
     "output_type": "stream",
     "text": [
      "100%|██████████| 1000/1000 [00:48<00:00, 20.48it/s, val_loss=0.247, epoch=999]\n"
     ]
    }
   ],
   "source": [
    "# config model\n",
    "model = VAE(train_data, test_data, in_dim, encoder_width, decoder_width, latent_dim, device)\n",
    "# train VAE\n",
    "hist_loss = model.train(batch_size, max_epoch, lr, weight_decay)"
   ]
  },
  {
   "cell_type": "code",
   "execution_count": 10,
   "id": "2e78b6f3-8cfe-4be2-9a17-778f8682fb02",
   "metadata": {},
   "outputs": [],
   "source": [
    "np.savetxt('figures/loss.csv', hist_loss, delimiter=',')"
   ]
  },
  {
   "cell_type": "markdown",
   "id": "11b5a2da-1197-465b-9869-cc587c9d4f3b",
   "metadata": {},
   "source": [
    "## Generate new data"
   ]
  },
  {
   "cell_type": "code",
   "execution_count": 11,
   "id": "53fa95db-b539-4919-943b-c01deda0612f",
   "metadata": {},
   "outputs": [],
   "source": [
    "Xnoise = model.test2(test_data.shape[0])"
   ]
  },
  {
   "cell_type": "code",
   "execution_count": 12,
   "id": "fd4eddb8-b397-45c2-b837-eb4d4355b119",
   "metadata": {},
   "outputs": [
    {
     "data": {
      "text/plain": [
       "tensor([[[[0.0171, 0.0168, 0.0133, 0.0149],\n",
       "          [0.0128, 0.0125, 0.0098, 0.0111],\n",
       "          [0.0117, 0.0114, 0.0088, 0.0100],\n",
       "          ...,\n",
       "          [0.0127, 0.0124, 0.0097, 0.0109],\n",
       "          [0.0233, 0.0229, 0.0186, 0.0206],\n",
       "          [0.0147, 0.0144, 0.0113, 0.0127]]]], device='cuda:0',\n",
       "       grad_fn=<SliceBackward0>)"
      ]
     },
     "execution_count": 12,
     "metadata": {},
     "output_type": "execute_result"
    }
   ],
   "source": [
    "Xnoise[:7]"
   ]
  },
  {
   "cell_type": "code",
   "execution_count": 15,
   "id": "29f2a2a2-7fd6-4abe-a06f-4b45db4902c8",
   "metadata": {},
   "outputs": [
    {
     "data": {
      "text/plain": [
       "(1, 1, 373, 4)"
      ]
     },
     "execution_count": 15,
     "metadata": {},
     "output_type": "execute_result"
    }
   ],
   "source": [
    "generated_data = Xnoise.cpu().detach().numpy()\n",
    "generated_data.shape"
   ]
  },
  {
   "cell_type": "code",
   "execution_count": 16,
   "id": "5a8e18ab-aac6-4ca6-a10b-7f7c78e95bcb",
   "metadata": {},
   "outputs": [
    {
     "data": {
      "text/plain": [
       "array([[0.01712526, 0.01677456, 0.01333138, 0.01494107],\n",
       "       [0.01281224, 0.01252779, 0.0097755 , 0.01105525]], dtype=float32)"
      ]
     },
     "execution_count": 16,
     "metadata": {},
     "output_type": "execute_result"
    }
   ],
   "source": [
    "generated_data = generated_data.reshape((test_data.shape[0], 4))\n",
    "generated_data[:2]"
   ]
  },
  {
   "cell_type": "markdown",
   "id": "aff86f7d-ef30-46d9-a9c1-481a4299514a",
   "metadata": {},
   "source": [
    "## Check distribution"
   ]
  },
  {
   "cell_type": "code",
   "execution_count": 17,
   "id": "18b61a87-2993-403d-be94-42562a8bbbf4",
   "metadata": {},
   "outputs": [],
   "source": [
    "from scipy import stats # import anderson, kendalltau"
   ]
  },
  {
   "cell_type": "code",
   "execution_count": 18,
   "id": "93ebf8e3-fdc8-499f-9424-8ace963033cd",
   "metadata": {},
   "outputs": [
    {
     "name": "stdout",
     "output_type": "stream",
     "text": [
      "correlation : 0.043719 - pvalue : 0.011403\n"
     ]
    }
   ],
   "source": [
    "corr, p_value = stats.kendalltau(test_data, generated_data)\n",
    "print(f\"correlation : %f - pvalue : %f\" % (corr, p_value))"
   ]
  },
  {
   "cell_type": "code",
   "execution_count": 19,
   "id": "e9aad066-0d55-4aea-bcd3-a381c7af17d6",
   "metadata": {},
   "outputs": [
    {
     "data": {
      "text/plain": [
       "KendalltauResult(correlation=0.9999999999999998, pvalue=0.0)"
      ]
     },
     "execution_count": 19,
     "metadata": {},
     "output_type": "execute_result"
    }
   ],
   "source": [
    "stats.kendalltau(test_data, test_data)"
   ]
  },
  {
   "cell_type": "code",
   "execution_count": 20,
   "id": "51a212da-fbe6-4045-badd-a8d1a92e563c",
   "metadata": {},
   "outputs": [
    {
     "data": {
      "text/plain": [
       "KendalltauResult(correlation=0.0016902127690180402, pvalue=0.9220787577366621)"
      ]
     },
     "execution_count": 20,
     "metadata": {},
     "output_type": "execute_result"
    }
   ],
   "source": [
    "stats.kendalltau(test_data, train_data)"
   ]
  },
  {
   "cell_type": "code",
   "execution_count": 23,
   "id": "fecc9f61-dbec-4e61-8a65-3c2b16b9707f",
   "metadata": {},
   "outputs": [
    {
     "data": {
      "text/plain": [
       "array([0.01707156, 0.01672603, 0.01332904, 0.01491779], dtype=float32)"
      ]
     },
     "execution_count": 23,
     "metadata": {},
     "output_type": "execute_result"
    }
   ],
   "source": [
    "np.mean(generated_data, axis=0,)"
   ]
  },
  {
   "cell_type": "code",
   "execution_count": 25,
   "id": "5d23bdb6-9b1c-476f-b237-13d889ee4591",
   "metadata": {},
   "outputs": [
    {
     "data": {
      "text/plain": [
       "tensor([0.0138, 0.0134, 0.0099, 0.0108])"
      ]
     },
     "execution_count": 25,
     "metadata": {},
     "output_type": "execute_result"
    }
   ],
   "source": [
    "test_data.mean(axis=0)"
   ]
  },
  {
   "cell_type": "code",
   "execution_count": 28,
   "id": "9de069b6-af62-43e8-96e8-e7f21ca0eafc",
   "metadata": {},
   "outputs": [
    {
     "data": {
      "text/plain": [
       "tensor([[1.4305e-04, 6.0533e-05, 4.6876e-05, 6.7385e-05],\n",
       "        [6.0533e-05, 1.2477e-04, 7.1715e-05, 3.8462e-05],\n",
       "        [4.6876e-05, 7.1715e-05, 9.8347e-05, 3.6174e-05],\n",
       "        [6.7385e-05, 3.8462e-05, 3.6174e-05, 7.7050e-05]])"
      ]
     },
     "execution_count": 28,
     "metadata": {},
     "output_type": "execute_result"
    }
   ],
   "source": [
    "test_data.T.cov()"
   ]
  },
  {
   "cell_type": "code",
   "execution_count": 31,
   "id": "a8d2ff6f-8efb-415f-a118-d07362077451",
   "metadata": {},
   "outputs": [
    {
     "data": {
      "text/plain": [
       "array([[2.47047038e-05, 2.43569856e-05, 2.06774969e-05, 2.24425764e-05],\n",
       "       [2.43569856e-05, 2.40141944e-05, 2.03867802e-05, 2.21268881e-05],\n",
       "       [2.06774969e-05, 2.03867802e-05, 1.73098700e-05, 1.87859748e-05],\n",
       "       [2.24425764e-05, 2.21268881e-05, 1.87859748e-05, 2.03886890e-05]])"
      ]
     },
     "execution_count": 31,
     "metadata": {},
     "output_type": "execute_result"
    }
   ],
   "source": [
    "np.cov(generated_data.T,)"
   ]
  },
  {
   "cell_type": "code",
   "execution_count": null,
   "id": "0baf4c75-bb05-4d3a-9d10-08e1ed447858",
   "metadata": {},
   "outputs": [],
   "source": []
  }
 ],
 "metadata": {
  "kernelspec": {
   "display_name": "Python 3",
   "language": "python",
   "name": "python3"
  },
  "language_info": {
   "codemirror_mode": {
    "name": "ipython",
    "version": 3
   },
   "file_extension": ".py",
   "mimetype": "text/x-python",
   "name": "python",
   "nbconvert_exporter": "python",
   "pygments_lexer": "ipython3",
   "version": "3.8.8"
  }
 },
 "nbformat": 4,
 "nbformat_minor": 5
}
