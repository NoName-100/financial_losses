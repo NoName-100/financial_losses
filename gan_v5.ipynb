{
  "nbformat": 4,
  "nbformat_minor": 0,
  "metadata": {
    "kernelspec": {
      "display_name": "Python 3",
      "language": "python",
      "name": "python3"
    },
    "language_info": {
      "codemirror_mode": {
        "name": "ipython",
        "version": 3
      },
      "file_extension": ".py",
      "mimetype": "text/x-python",
      "name": "python",
      "nbconvert_exporter": "python",
      "pygments_lexer": "ipython3",
      "version": "3.8.8"
    },
    "colab": {
      "name": "gan_v5.ipynb",
      "provenance": [],
      "collapsed_sections": []
    },
    "accelerator": "GPU"
  },
  "cells": [
    {
      "cell_type": "markdown",
      "metadata": {
        "id": "gU2di_amltcD"
      },
      "source": [
        "## Prerequisites"
      ]
    },
    {
      "cell_type": "code",
      "metadata": {
        "id": "GdfiZWeiltcT"
      },
      "source": [
        "import pandas as pd\n",
        "import numpy as np\n",
        "import matplotlib.pyplot as plt\n",
        "from tqdm import tqdm\n",
        "import seaborn as sns"
      ],
      "execution_count": null,
      "outputs": []
    },
    {
      "cell_type": "code",
      "metadata": {
        "id": "BEV1s47-ltca"
      },
      "source": [
        "def display_data(fake_data, train_data):\n",
        "    fake_data = pd.DataFrame(np.array(fake_data))\n",
        "    fake_data.head()\n",
        "\n",
        "    train_data = pd.DataFrame(np.array(train_data))\n",
        "    train_data.head()\n",
        "\n",
        "    fake_data[\"label\"] = 1\n",
        "    train_data[\"label\"] = 0\n",
        "    \n",
        "    data = pd.concat([fake_data, train_data])\n",
        "    data.head()\n",
        "\n",
        "    sns.pairplot(data, hue='label')\n",
        "    \n",
        "def norm(x, mu, theta):\n",
        "    return (x - mu)/theta\n",
        "\n",
        "def denorm(x, mu, theta):\n",
        "    return x * theta + mu"
      ],
      "execution_count": null,
      "outputs": []
    },
    {
      "cell_type": "markdown",
      "metadata": {
        "id": "PlL9buRgltcd"
      },
      "source": [
        "## Observation of data"
      ]
    },
    {
      "cell_type": "markdown",
      "metadata": {
        "id": "JioMu9ehltcf"
      },
      "source": [
        "Let's see how our data look like"
      ]
    },
    {
      "cell_type": "code",
      "metadata": {
        "id": "oAHaY69jltch"
      },
      "source": [
        "df1 = pd.read_csv('/home/train.csv', header=None)\n",
        "df2 = pd.read_csv('/home/data_val_log_return.csv', header=None)\n",
        "df = pd.concat([df1, df2])\n",
        "\n",
        "train_data = np.array(df.drop(labels=0, axis=1))\n",
        "data_dim = train_data.shape[1]"
      ],
      "execution_count": null,
      "outputs": []
    },
    {
      "cell_type": "markdown",
      "metadata": {
        "id": "B5LnfyF1ltck"
      },
      "source": [
        "### Definition of GAN models"
      ]
    },
    {
      "cell_type": "code",
      "metadata": {
        "colab": {
          "base_uri": "https://localhost:8080/"
        },
        "id": "gkeamuTaltco",
        "outputId": "6e60689c-b785-480b-b2fe-31c6461064f9"
      },
      "source": [
        "import torch\n",
        "import torch.nn as nn\n",
        "\n",
        "if torch.cuda.is_available():\n",
        "    print('You use GPU !')\n",
        "    device = torch.device('cuda')\n",
        "else:\n",
        "    print('You use CPU !')\n",
        "    device = torch.device('cpu')"
      ],
      "execution_count": null,
      "outputs": [
        {
          "output_type": "stream",
          "name": "stdout",
          "text": [
            "You use GPU !\n"
          ]
        }
      ]
    },
    {
      "cell_type": "code",
      "metadata": {
        "id": "xs4PW3CNltcv"
      },
      "source": [
        "# Generative model\n",
        "def make_generator(noise_dim):\n",
        "    return nn.Sequential(\n",
        "        nn.Conv1d(in_channels=noise_dim, out_channels=128, kernel_size=1),\n",
        "        nn.BatchNorm1d(128),\n",
        "        nn.LeakyReLU(),\n",
        "        \n",
        "        nn.Conv1d(in_channels=128, out_channels=64, kernel_size=1),\n",
        "        nn.BatchNorm1d(64),\n",
        "        nn.LeakyReLU(),\n",
        "        \n",
        "        nn.Flatten(),\n",
        "        \n",
        "        nn.Linear(in_features=64, out_features=32),\n",
        "        nn.Linear(in_features=32, out_features=16),\n",
        "        nn.Linear(in_features=16, out_features=data_dim),\n",
        "        nn.LeakyReLU(),\n",
        "    )\n",
        "\n",
        "\n",
        "# Discriminative model\n",
        "def make_discriminator():\n",
        "    return nn.Sequential(\n",
        "        nn.ConvTranspose1d(in_channels=data_dim, out_channels=64, kernel_size=1),\n",
        "        nn.BatchNorm1d(64),\n",
        "        nn.LeakyReLU(),\n",
        "        nn.Dropout(0.2),\n",
        "        \n",
        "        nn.ConvTranspose1d(in_channels=64, out_channels=16, kernel_size=1),\n",
        "        nn.BatchNorm1d(16),\n",
        "        nn.LeakyReLU(),\n",
        "        nn.Dropout(0.1),\n",
        "        \n",
        "        nn.Flatten(),\n",
        "        nn.Linear(in_features=16, out_features=8),\n",
        "        \n",
        "        nn.Linear(in_features=8, out_features=2)\n",
        "    )"
      ],
      "execution_count": null,
      "outputs": []
    },
    {
      "cell_type": "code",
      "metadata": {
        "id": "2Q46qgidog8M"
      },
      "source": [
        "#function to test multiple classical gan architectures\n",
        "\n",
        "## each network will be a combinason of these given list function\n",
        "#  - MLP\n",
        "#  - CONV1d\n",
        "#  - \n",
        "\n",
        "#def test_clasical(nb)"
      ],
      "execution_count": null,
      "outputs": []
    },
    {
      "cell_type": "markdown",
      "metadata": {
        "id": "quTvlWnGltc1"
      },
      "source": [
        "## Training"
      ]
    },
    {
      "cell_type": "markdown",
      "metadata": {
        "id": "vs_Es5Vhltc2"
      },
      "source": [
        "Split dataset into training data and evaluation data"
      ]
    },
    {
      "cell_type": "code",
      "metadata": {
        "colab": {
          "base_uri": "https://localhost:8080/"
        },
        "id": "cd12JpHgltc4",
        "outputId": "303007e1-4477-47f9-e066-d185d97b8612"
      },
      "source": [
        "train_data.shape"
      ],
      "execution_count": null,
      "outputs": [
        {
          "output_type": "execute_result",
          "data": {
            "text/plain": [
              "(1156, 4)"
            ]
          },
          "metadata": {},
          "execution_count": 6
        }
      ]
    },
    {
      "cell_type": "code",
      "metadata": {
        "id": "i3eNYOeTltc7"
      },
      "source": [
        "X = torch.tensor(train_data , dtype=torch.float).to(device) ** 0.25\n",
        "mu = X.mean(dim=0)\n",
        "theta = torch.sqrt(((X - mu)**2).mean(dim=0))\n",
        "X = norm(X, mu, theta)\n",
        "\n",
        "eval_rate = 0.2\n",
        "eval_index = int(X.shape[0] * (1 - eval_rate))\n",
        "X_train = X[0: eval_index]\n",
        "X_eval = X[eval_index:]\n",
        "\n",
        "batch_size = 16\n",
        "\n",
        "X_train_loader = torch.utils.data.DataLoader(X_train, batch_size, shuffle=True)\n",
        "# X_eval_loader = torch.utils.data.DataLoader(X_eval, batch_size, shuffle=True)"
      ],
      "execution_count": null,
      "outputs": []
    },
    {
      "cell_type": "markdown",
      "metadata": {
        "id": "kou4WdKEltc-"
      },
      "source": [
        "We choose Adam Optimizer ($\\beta_1 = 0.9$, $\\beta_2 = 0.999$)"
      ]
    },
    {
      "cell_type": "code",
      "metadata": {
        "id": "9zWQVnfZltc_"
      },
      "source": [
        "noise_dim = 200\n",
        "generator = make_generator(noise_dim=noise_dim).to(device)\n",
        "discriminator = make_discriminator().to(device)\n",
        "\n",
        "\n",
        "num_epochs = 100\n",
        "lr = 0.001\n",
        "gen_optimizer = torch.optim.Adam(generator.parameters(), lr=lr)\n",
        "disc_optimizer = torch.optim.Adam(discriminator.parameters(), lr=lr)\n",
        "\n",
        "criterion = torch.nn.CrossEntropyLoss()"
      ],
      "execution_count": null,
      "outputs": []
    },
    {
      "cell_type": "code",
      "metadata": {
        "id": "h1X-cqV9ltdA"
      },
      "source": [
        "def reshape(data):\n",
        "    return data.view(data.shape[0], data.shape[1], 1)"
      ],
      "execution_count": null,
      "outputs": []
    },
    {
      "cell_type": "code",
      "metadata": {
        "colab": {
          "base_uri": "https://localhost:8080/",
          "height": 374
        },
        "id": "UFTF7LlXltdB",
        "outputId": "57468c9e-de35-45e1-8650-8c19db46fc78"
      },
      "source": [
        "tk = tqdm(range(num_epochs))\n",
        "\n",
        "for i in tk:\n",
        "    disc_losses = []\n",
        "    gen_losses = []\n",
        "    for true_data in X_train_loader:\n",
        "        #### DISCRIMINATOR OPTMIZATION ####\n",
        "        n_data = true_data.shape[0]\n",
        "        \n",
        "        discriminator.train() # Unfreeze parameters of the discriminator\n",
        "        generator.eval() # Freeze parameters of the generator\n",
        "        \n",
        "        disc_optimizer.zero_grad()\n",
        "        \n",
        "        true_x = true_data.to(device) # true data from the training dataset\n",
        "        \n",
        "        noise = torch.randn(n_data, noise_dim).to(device)\n",
        "        noise = reshape(noise)\n",
        "        \n",
        "        fake_x = generator(noise).detach() # fake data from the noise distribution ~ N(0, 1)\n",
        "\n",
        "        x = torch.cat([true_x, fake_x]) # Gather true and fake data\n",
        "        x = reshape(x)\n",
        "        \n",
        "        \n",
        "        true_y = torch.ones((n_data,), dtype=torch.long).to(device) # target 1 for true data\n",
        "        fake_y = torch.zeros((n_data,), dtype=torch.long).to(device) # target 0 for fake data\n",
        "        \n",
        "        y = torch.cat([true_y, fake_y]) # Gather true and fake targets\n",
        "        \n",
        "        \n",
        "        \n",
        "        output = discriminator(x)\n",
        "        \n",
        "        disc_loss = criterion(output, y) # Penalize Discriminator for failing to distinguish fake data from true data\n",
        "        disc_losses.append(disc_loss.item())\n",
        "        \n",
        "        disc_loss.backward()\n",
        "        \n",
        "        \n",
        "        disc_optimizer.step() # Optimize Discriminator\n",
        "        \n",
        "        \n",
        "        \n",
        "        ### GENERATOR OPTIMIZATION ###\n",
        "        n_data = true_data.shape[0] * 2\n",
        "    \n",
        "        discriminator.eval() # Freeze parameters of the discriminator\n",
        "        generator.train() # Unfreeze parameters of the generator\n",
        "\n",
        "        gen_optimizer.zero_grad()\n",
        "        \n",
        "        \n",
        "        noise = torch.randn(n_data, noise_dim).to(device)\n",
        "        noise = reshape(noise)\n",
        "        fake_x = generator(noise) # fake data from the noise distribution ~ N(0, 1)\n",
        "        \n",
        "        true_y = torch.ones((n_data,), dtype=torch.long).to(device) # target 1 for true data\n",
        "        \n",
        "        fake_x = reshape(fake_x)\n",
        "        output = discriminator(fake_x)\n",
        "        \n",
        "        gen_loss = criterion(output, true_y) # Penalize Generator for failing to fool the discriminator\n",
        "        gen_losses.append(gen_loss.item())\n",
        "        \n",
        "        gen_loss.backward()\n",
        "        \n",
        "\n",
        "        gen_optimizer.step() # Optimize Generator  \n",
        "    \n",
        "    \n",
        "    disc_loss = np.mean(disc_losses)\n",
        "    gen_loss = np.mean(gen_losses)\n",
        "    \n",
        "    tk.set_postfix({\"disc_loss\": disc_loss, \"gen_loss\": gen_loss})"
      ],
      "execution_count": null,
      "outputs": [
        {
          "output_type": "stream",
          "name": "stderr",
          "text": [
            "  0%|          | 1/500 [00:01<09:04,  1.09s/it, disc_loss=0.331, gen_loss=2.01]\n"
          ]
        },
        {
          "output_type": "error",
          "ename": "KeyboardInterrupt",
          "evalue": "ignored",
          "traceback": [
            "\u001b[0;31m---------------------------------------------------------------------------\u001b[0m",
            "\u001b[0;31mKeyboardInterrupt\u001b[0m                         Traceback (most recent call last)",
            "\u001b[0;32m<ipython-input-18-a6943bdfedc0>\u001b[0m in \u001b[0;36m<module>\u001b[0;34m()\u001b[0m\n\u001b[1;32m     67\u001b[0m \u001b[0;34m\u001b[0m\u001b[0m\n\u001b[1;32m     68\u001b[0m \u001b[0;34m\u001b[0m\u001b[0m\n\u001b[0;32m---> 69\u001b[0;31m         \u001b[0mgen_optimizer\u001b[0m\u001b[0;34m.\u001b[0m\u001b[0mstep\u001b[0m\u001b[0;34m(\u001b[0m\u001b[0;34m)\u001b[0m \u001b[0;31m# Optimize Generator\u001b[0m\u001b[0;34m\u001b[0m\u001b[0;34m\u001b[0m\u001b[0m\n\u001b[0m\u001b[1;32m     70\u001b[0m \u001b[0;34m\u001b[0m\u001b[0m\n\u001b[1;32m     71\u001b[0m \u001b[0;34m\u001b[0m\u001b[0m\n",
            "\u001b[0;32m/usr/local/lib/python3.7/dist-packages/torch/optim/optimizer.py\u001b[0m in \u001b[0;36mwrapper\u001b[0;34m(*args, **kwargs)\u001b[0m\n\u001b[1;32m     86\u001b[0m                 \u001b[0mprofile_name\u001b[0m \u001b[0;34m=\u001b[0m \u001b[0;34m\"Optimizer.step#{}.step\"\u001b[0m\u001b[0;34m.\u001b[0m\u001b[0mformat\u001b[0m\u001b[0;34m(\u001b[0m\u001b[0mobj\u001b[0m\u001b[0;34m.\u001b[0m\u001b[0m__class__\u001b[0m\u001b[0;34m.\u001b[0m\u001b[0m__name__\u001b[0m\u001b[0;34m)\u001b[0m\u001b[0;34m\u001b[0m\u001b[0;34m\u001b[0m\u001b[0m\n\u001b[1;32m     87\u001b[0m                 \u001b[0;32mwith\u001b[0m \u001b[0mtorch\u001b[0m\u001b[0;34m.\u001b[0m\u001b[0mautograd\u001b[0m\u001b[0;34m.\u001b[0m\u001b[0mprofiler\u001b[0m\u001b[0;34m.\u001b[0m\u001b[0mrecord_function\u001b[0m\u001b[0;34m(\u001b[0m\u001b[0mprofile_name\u001b[0m\u001b[0;34m)\u001b[0m\u001b[0;34m:\u001b[0m\u001b[0;34m\u001b[0m\u001b[0;34m\u001b[0m\u001b[0m\n\u001b[0;32m---> 88\u001b[0;31m                     \u001b[0;32mreturn\u001b[0m \u001b[0mfunc\u001b[0m\u001b[0;34m(\u001b[0m\u001b[0;34m*\u001b[0m\u001b[0margs\u001b[0m\u001b[0;34m,\u001b[0m \u001b[0;34m**\u001b[0m\u001b[0mkwargs\u001b[0m\u001b[0;34m)\u001b[0m\u001b[0;34m\u001b[0m\u001b[0;34m\u001b[0m\u001b[0m\n\u001b[0m\u001b[1;32m     89\u001b[0m             \u001b[0;32mreturn\u001b[0m \u001b[0mwrapper\u001b[0m\u001b[0;34m\u001b[0m\u001b[0;34m\u001b[0m\u001b[0m\n\u001b[1;32m     90\u001b[0m \u001b[0;34m\u001b[0m\u001b[0m\n",
            "\u001b[0;32m/usr/local/lib/python3.7/dist-packages/torch/autograd/grad_mode.py\u001b[0m in \u001b[0;36mdecorate_context\u001b[0;34m(*args, **kwargs)\u001b[0m\n\u001b[1;32m     26\u001b[0m         \u001b[0;32mdef\u001b[0m \u001b[0mdecorate_context\u001b[0m\u001b[0;34m(\u001b[0m\u001b[0;34m*\u001b[0m\u001b[0margs\u001b[0m\u001b[0;34m,\u001b[0m \u001b[0;34m**\u001b[0m\u001b[0mkwargs\u001b[0m\u001b[0;34m)\u001b[0m\u001b[0;34m:\u001b[0m\u001b[0;34m\u001b[0m\u001b[0;34m\u001b[0m\u001b[0m\n\u001b[1;32m     27\u001b[0m             \u001b[0;32mwith\u001b[0m \u001b[0mself\u001b[0m\u001b[0;34m.\u001b[0m\u001b[0m__class__\u001b[0m\u001b[0;34m(\u001b[0m\u001b[0;34m)\u001b[0m\u001b[0;34m:\u001b[0m\u001b[0;34m\u001b[0m\u001b[0;34m\u001b[0m\u001b[0m\n\u001b[0;32m---> 28\u001b[0;31m                 \u001b[0;32mreturn\u001b[0m \u001b[0mfunc\u001b[0m\u001b[0;34m(\u001b[0m\u001b[0;34m*\u001b[0m\u001b[0margs\u001b[0m\u001b[0;34m,\u001b[0m \u001b[0;34m**\u001b[0m\u001b[0mkwargs\u001b[0m\u001b[0;34m)\u001b[0m\u001b[0;34m\u001b[0m\u001b[0;34m\u001b[0m\u001b[0m\n\u001b[0m\u001b[1;32m     29\u001b[0m         \u001b[0;32mreturn\u001b[0m \u001b[0mcast\u001b[0m\u001b[0;34m(\u001b[0m\u001b[0mF\u001b[0m\u001b[0;34m,\u001b[0m \u001b[0mdecorate_context\u001b[0m\u001b[0;34m)\u001b[0m\u001b[0;34m\u001b[0m\u001b[0;34m\u001b[0m\u001b[0m\n\u001b[1;32m     30\u001b[0m \u001b[0;34m\u001b[0m\u001b[0m\n",
            "\u001b[0;32m/usr/local/lib/python3.7/dist-packages/torch/optim/adam.py\u001b[0m in \u001b[0;36mstep\u001b[0;34m(self, closure)\u001b[0m\n\u001b[1;32m    142\u001b[0m                    \u001b[0mlr\u001b[0m\u001b[0;34m=\u001b[0m\u001b[0mgroup\u001b[0m\u001b[0;34m[\u001b[0m\u001b[0;34m'lr'\u001b[0m\u001b[0;34m]\u001b[0m\u001b[0;34m,\u001b[0m\u001b[0;34m\u001b[0m\u001b[0;34m\u001b[0m\u001b[0m\n\u001b[1;32m    143\u001b[0m                    \u001b[0mweight_decay\u001b[0m\u001b[0;34m=\u001b[0m\u001b[0mgroup\u001b[0m\u001b[0;34m[\u001b[0m\u001b[0;34m'weight_decay'\u001b[0m\u001b[0;34m]\u001b[0m\u001b[0;34m,\u001b[0m\u001b[0;34m\u001b[0m\u001b[0;34m\u001b[0m\u001b[0m\n\u001b[0;32m--> 144\u001b[0;31m                    eps=group['eps'])\n\u001b[0m\u001b[1;32m    145\u001b[0m         \u001b[0;32mreturn\u001b[0m \u001b[0mloss\u001b[0m\u001b[0;34m\u001b[0m\u001b[0;34m\u001b[0m\u001b[0m\n",
            "\u001b[0;31mKeyboardInterrupt\u001b[0m: "
          ]
        }
      ]
    },
    {
      "cell_type": "code",
      "metadata": {
        "colab": {
          "base_uri": "https://localhost:8080/"
        },
        "id": "YbHW8QmultdF",
        "outputId": "48fc0425-8bb5-403b-ea7e-a0c96f05d3ad"
      },
      "source": [
        "discriminator.eval()\n",
        "generator.eval()"
      ],
      "execution_count": null,
      "outputs": [
        {
          "output_type": "execute_result",
          "data": {
            "text/plain": [
              "Sequential(\n",
              "  (0): Conv1d(200, 128, kernel_size=(1,), stride=(1,))\n",
              "  (1): BatchNorm1d(128, eps=1e-05, momentum=0.1, affine=True, track_running_stats=True)\n",
              "  (2): LeakyReLU(negative_slope=0.01)\n",
              "  (3): Conv1d(128, 64, kernel_size=(1,), stride=(1,))\n",
              "  (4): BatchNorm1d(64, eps=1e-05, momentum=0.1, affine=True, track_running_stats=True)\n",
              "  (5): LeakyReLU(negative_slope=0.01)\n",
              "  (6): Flatten(start_dim=1, end_dim=-1)\n",
              "  (7): Linear(in_features=64, out_features=32, bias=True)\n",
              "  (8): Linear(in_features=32, out_features=16, bias=True)\n",
              "  (9): Linear(in_features=16, out_features=4, bias=True)\n",
              "  (10): LeakyReLU(negative_slope=0.01)\n",
              ")"
            ]
          },
          "metadata": {},
          "execution_count": 19
        }
      ]
    },
    {
      "cell_type": "code",
      "metadata": {
        "colab": {
          "base_uri": "https://localhost:8080/"
        },
        "id": "8ljUSH3wltdH",
        "outputId": "8742d4a1-a0c9-458f-aaff-adc02aa63cca"
      },
      "source": [
        "example = torch.randn(batch_size*4, noise_dim).to(device)\n",
        "example = reshape(example)\n",
        "\n",
        "generated = generator(example)\n",
        "generated = reshape(generated)\n",
        "\n",
        "discriminator(generated).argmax(dim=1)"
      ],
      "execution_count": null,
      "outputs": [
        {
          "output_type": "execute_result",
          "data": {
            "text/plain": [
              "tensor([0, 0, 0, 0, 0, 0, 0, 0, 0, 0, 0, 0, 0, 0, 0, 0, 0, 1, 0, 0, 0, 0, 0, 0,\n",
              "        0, 0, 0, 1, 0, 0, 0, 0, 0, 0, 1, 0, 0, 1, 0, 1, 0, 0, 0, 1, 0, 0, 1, 0,\n",
              "        0, 0, 1, 1, 0, 1, 0, 0, 0, 1, 0, 0, 1, 1, 0, 0])"
            ]
          },
          "metadata": {},
          "execution_count": 20
        }
      ]
    },
    {
      "cell_type": "code",
      "metadata": {
        "colab": {
          "base_uri": "https://localhost:8080/"
        },
        "id": "JtD5UGPZltdJ",
        "outputId": "c001dc92-4dda-476a-c5a8-54a585af09a8"
      },
      "source": [
        "probs = discriminator(generated)\n",
        "probs[:10]"
      ],
      "execution_count": null,
      "outputs": [
        {
          "output_type": "execute_result",
          "data": {
            "text/plain": [
              "tensor([[ 1.3450, -0.9090],\n",
              "        [ 0.7438, -0.2529],\n",
              "        [ 0.7613, -0.2703],\n",
              "        [ 1.5110, -1.0501],\n",
              "        [ 0.6505, -0.1776],\n",
              "        [ 1.3322, -0.8807],\n",
              "        [ 0.4257,  0.1054],\n",
              "        [ 1.4165, -0.9702],\n",
              "        [ 1.0844, -0.6233],\n",
              "        [ 0.9545, -0.4886]], grad_fn=<SliceBackward0>)"
            ]
          },
          "metadata": {},
          "execution_count": 21
        }
      ]
    },
    {
      "cell_type": "code",
      "metadata": {
        "colab": {
          "base_uri": "https://localhost:8080/"
        },
        "id": "66fepq6NltdK",
        "outputId": "dfcb062d-7340-4f4f-ae8d-d5818e59f9e9"
      },
      "source": [
        "x = reshape(X)\n",
        "probs = discriminator(x) # .argmax(dim=1)[:300]\n",
        "probs[:10]"
      ],
      "execution_count": null,
      "outputs": [
        {
          "output_type": "execute_result",
          "data": {
            "text/plain": [
              "tensor([[ 0.6427, -0.1768],\n",
              "        [-0.1275,  0.5120],\n",
              "        [-5.7178,  7.4319],\n",
              "        [ 0.3806,  0.0650],\n",
              "        [ 0.8752, -0.4333],\n",
              "        [-2.9503,  3.8509],\n",
              "        [ 1.1600, -0.7192],\n",
              "        [ 0.4996,  0.0337],\n",
              "        [-2.9724,  3.8570],\n",
              "        [-1.4818,  2.0946]], grad_fn=<SliceBackward0>)"
            ]
          },
          "metadata": {},
          "execution_count": 22
        }
      ]
    },
    {
      "cell_type": "code",
      "metadata": {
        "colab": {
          "base_uri": "https://localhost:8080/",
          "height": 357
        },
        "id": "PXiP6zznltdM",
        "outputId": "c19f1a99-07e1-4042-ed55-3b613bcc3a64"
      },
      "source": [
        "fake_data = generator(reshape(torch.randn(X_eval.shape[0], noise_dim).to(device)))\n",
        "fake_data = denorm(fake_data, mu, theta) ** 4\n",
        "fake_data = fake_data.detach().cpu().numpy()\n",
        "\n",
        "display_data(fake_data, X_eval)"
      ],
      "execution_count": 24,
      "outputs": [
        {
          "output_type": "error",
          "ename": "ValueError",
          "evalue": "ignored",
          "traceback": [
            "\u001b[0;31m---------------------------------------------------------------------------\u001b[0m",
            "\u001b[0;31mValueError\u001b[0m                                Traceback (most recent call last)",
            "\u001b[0;32m<ipython-input-24-dff743f757ab>\u001b[0m in \u001b[0;36m<module>\u001b[0;34m()\u001b[0m\n\u001b[1;32m      3\u001b[0m \u001b[0mfake_data\u001b[0m \u001b[0;34m=\u001b[0m \u001b[0mfake_data\u001b[0m\u001b[0;34m.\u001b[0m\u001b[0mdetach\u001b[0m\u001b[0;34m(\u001b[0m\u001b[0;34m)\u001b[0m\u001b[0;34m.\u001b[0m\u001b[0mcpu\u001b[0m\u001b[0;34m(\u001b[0m\u001b[0;34m)\u001b[0m\u001b[0;34m.\u001b[0m\u001b[0mnumpy\u001b[0m\u001b[0;34m(\u001b[0m\u001b[0;34m)\u001b[0m\u001b[0;34m\u001b[0m\u001b[0;34m\u001b[0m\u001b[0m\n\u001b[1;32m      4\u001b[0m \u001b[0;34m\u001b[0m\u001b[0m\n\u001b[0;32m----> 5\u001b[0;31m \u001b[0mdisplay_data\u001b[0m\u001b[0;34m(\u001b[0m\u001b[0mfake_data\u001b[0m\u001b[0;34m,\u001b[0m \u001b[0mX_eval\u001b[0m\u001b[0;34m)\u001b[0m\u001b[0;34m\u001b[0m\u001b[0;34m\u001b[0m\u001b[0m\n\u001b[0m",
            "\u001b[0;32m<ipython-input-8-4c80bbacd465>\u001b[0m in \u001b[0;36mdisplay_data\u001b[0;34m(fake_data, train_data)\u001b[0m\n\u001b[1;32m     12\u001b[0m     \u001b[0mdata\u001b[0m\u001b[0;34m.\u001b[0m\u001b[0mhead\u001b[0m\u001b[0;34m(\u001b[0m\u001b[0;34m)\u001b[0m\u001b[0;34m\u001b[0m\u001b[0;34m\u001b[0m\u001b[0m\n\u001b[1;32m     13\u001b[0m \u001b[0;34m\u001b[0m\u001b[0m\n\u001b[0;32m---> 14\u001b[0;31m     \u001b[0msns\u001b[0m\u001b[0;34m.\u001b[0m\u001b[0mpairplot\u001b[0m\u001b[0;34m(\u001b[0m\u001b[0mdata\u001b[0m\u001b[0;34m,\u001b[0m \u001b[0mhue\u001b[0m\u001b[0;34m=\u001b[0m\u001b[0;34m'label'\u001b[0m\u001b[0;34m)\u001b[0m\u001b[0;34m\u001b[0m\u001b[0;34m\u001b[0m\u001b[0m\n\u001b[0m\u001b[1;32m     15\u001b[0m \u001b[0;34m\u001b[0m\u001b[0m\n\u001b[1;32m     16\u001b[0m \u001b[0;32mdef\u001b[0m \u001b[0mnorm\u001b[0m\u001b[0;34m(\u001b[0m\u001b[0mx\u001b[0m\u001b[0;34m,\u001b[0m \u001b[0mmu\u001b[0m\u001b[0;34m,\u001b[0m \u001b[0mtheta\u001b[0m\u001b[0;34m)\u001b[0m\u001b[0;34m:\u001b[0m\u001b[0;34m\u001b[0m\u001b[0;34m\u001b[0m\u001b[0m\n",
            "\u001b[0;32m/usr/local/lib/python3.7/dist-packages/seaborn/_decorators.py\u001b[0m in \u001b[0;36minner_f\u001b[0;34m(*args, **kwargs)\u001b[0m\n\u001b[1;32m     44\u001b[0m             )\n\u001b[1;32m     45\u001b[0m         \u001b[0mkwargs\u001b[0m\u001b[0;34m.\u001b[0m\u001b[0mupdate\u001b[0m\u001b[0;34m(\u001b[0m\u001b[0;34m{\u001b[0m\u001b[0mk\u001b[0m\u001b[0;34m:\u001b[0m \u001b[0marg\u001b[0m \u001b[0;32mfor\u001b[0m \u001b[0mk\u001b[0m\u001b[0;34m,\u001b[0m \u001b[0marg\u001b[0m \u001b[0;32min\u001b[0m \u001b[0mzip\u001b[0m\u001b[0;34m(\u001b[0m\u001b[0msig\u001b[0m\u001b[0;34m.\u001b[0m\u001b[0mparameters\u001b[0m\u001b[0;34m,\u001b[0m \u001b[0margs\u001b[0m\u001b[0;34m)\u001b[0m\u001b[0;34m}\u001b[0m\u001b[0;34m)\u001b[0m\u001b[0;34m\u001b[0m\u001b[0;34m\u001b[0m\u001b[0m\n\u001b[0;32m---> 46\u001b[0;31m         \u001b[0;32mreturn\u001b[0m \u001b[0mf\u001b[0m\u001b[0;34m(\u001b[0m\u001b[0;34m**\u001b[0m\u001b[0mkwargs\u001b[0m\u001b[0;34m)\u001b[0m\u001b[0;34m\u001b[0m\u001b[0;34m\u001b[0m\u001b[0m\n\u001b[0m\u001b[1;32m     47\u001b[0m     \u001b[0;32mreturn\u001b[0m \u001b[0minner_f\u001b[0m\u001b[0;34m\u001b[0m\u001b[0;34m\u001b[0m\u001b[0m\n\u001b[1;32m     48\u001b[0m \u001b[0;34m\u001b[0m\u001b[0m\n",
            "\u001b[0;32m/usr/local/lib/python3.7/dist-packages/seaborn/axisgrid.py\u001b[0m in \u001b[0;36mpairplot\u001b[0;34m(data, hue, hue_order, palette, vars, x_vars, y_vars, kind, diag_kind, markers, height, aspect, corner, dropna, plot_kws, diag_kws, grid_kws, size)\u001b[0m\n\u001b[1;32m   2096\u001b[0m     grid = PairGrid(data, vars=vars, x_vars=x_vars, y_vars=y_vars, hue=hue,\n\u001b[1;32m   2097\u001b[0m                     \u001b[0mhue_order\u001b[0m\u001b[0;34m=\u001b[0m\u001b[0mhue_order\u001b[0m\u001b[0;34m,\u001b[0m \u001b[0mpalette\u001b[0m\u001b[0;34m=\u001b[0m\u001b[0mpalette\u001b[0m\u001b[0;34m,\u001b[0m \u001b[0mcorner\u001b[0m\u001b[0;34m=\u001b[0m\u001b[0mcorner\u001b[0m\u001b[0;34m,\u001b[0m\u001b[0;34m\u001b[0m\u001b[0;34m\u001b[0m\u001b[0m\n\u001b[0;32m-> 2098\u001b[0;31m                     height=height, aspect=aspect, dropna=dropna, **grid_kws)\n\u001b[0m\u001b[1;32m   2099\u001b[0m \u001b[0;34m\u001b[0m\u001b[0m\n\u001b[1;32m   2100\u001b[0m     \u001b[0;31m# Add the markers here as PairGrid has figured out how many levels of the\u001b[0m\u001b[0;34m\u001b[0m\u001b[0;34m\u001b[0m\u001b[0;34m\u001b[0m\u001b[0m\n",
            "\u001b[0;32m/usr/local/lib/python3.7/dist-packages/seaborn/_decorators.py\u001b[0m in \u001b[0;36minner_f\u001b[0;34m(*args, **kwargs)\u001b[0m\n\u001b[1;32m     44\u001b[0m             )\n\u001b[1;32m     45\u001b[0m         \u001b[0mkwargs\u001b[0m\u001b[0;34m.\u001b[0m\u001b[0mupdate\u001b[0m\u001b[0;34m(\u001b[0m\u001b[0;34m{\u001b[0m\u001b[0mk\u001b[0m\u001b[0;34m:\u001b[0m \u001b[0marg\u001b[0m \u001b[0;32mfor\u001b[0m \u001b[0mk\u001b[0m\u001b[0;34m,\u001b[0m \u001b[0marg\u001b[0m \u001b[0;32min\u001b[0m \u001b[0mzip\u001b[0m\u001b[0;34m(\u001b[0m\u001b[0msig\u001b[0m\u001b[0;34m.\u001b[0m\u001b[0mparameters\u001b[0m\u001b[0;34m,\u001b[0m \u001b[0margs\u001b[0m\u001b[0;34m)\u001b[0m\u001b[0;34m}\u001b[0m\u001b[0;34m)\u001b[0m\u001b[0;34m\u001b[0m\u001b[0;34m\u001b[0m\u001b[0m\n\u001b[0;32m---> 46\u001b[0;31m         \u001b[0;32mreturn\u001b[0m \u001b[0mf\u001b[0m\u001b[0;34m(\u001b[0m\u001b[0;34m**\u001b[0m\u001b[0mkwargs\u001b[0m\u001b[0;34m)\u001b[0m\u001b[0;34m\u001b[0m\u001b[0;34m\u001b[0m\u001b[0m\n\u001b[0m\u001b[1;32m     47\u001b[0m     \u001b[0;32mreturn\u001b[0m \u001b[0minner_f\u001b[0m\u001b[0;34m\u001b[0m\u001b[0;34m\u001b[0m\u001b[0m\n\u001b[1;32m     48\u001b[0m \u001b[0;34m\u001b[0m\u001b[0m\n",
            "\u001b[0;32m/usr/local/lib/python3.7/dist-packages/seaborn/axisgrid.py\u001b[0m in \u001b[0;36m__init__\u001b[0;34m(self, data, hue, hue_order, palette, hue_kws, vars, x_vars, y_vars, corner, diag_sharey, height, aspect, layout_pad, despine, dropna, size)\u001b[0m\n\u001b[1;32m   1231\u001b[0m \u001b[0;34m\u001b[0m\u001b[0m\n\u001b[1;32m   1232\u001b[0m         \u001b[0;32mif\u001b[0m \u001b[0;32mnot\u001b[0m \u001b[0mx_vars\u001b[0m\u001b[0;34m:\u001b[0m\u001b[0;34m\u001b[0m\u001b[0;34m\u001b[0m\u001b[0m\n\u001b[0;32m-> 1233\u001b[0;31m             \u001b[0;32mraise\u001b[0m \u001b[0mValueError\u001b[0m\u001b[0;34m(\u001b[0m\u001b[0;34m\"No variables found for grid columns.\"\u001b[0m\u001b[0;34m)\u001b[0m\u001b[0;34m\u001b[0m\u001b[0;34m\u001b[0m\u001b[0m\n\u001b[0m\u001b[1;32m   1234\u001b[0m         \u001b[0;32mif\u001b[0m \u001b[0;32mnot\u001b[0m \u001b[0my_vars\u001b[0m\u001b[0;34m:\u001b[0m\u001b[0;34m\u001b[0m\u001b[0;34m\u001b[0m\u001b[0m\n\u001b[1;32m   1235\u001b[0m             \u001b[0;32mraise\u001b[0m \u001b[0mValueError\u001b[0m\u001b[0;34m(\u001b[0m\u001b[0;34m\"No variables found for grid rows.\"\u001b[0m\u001b[0;34m)\u001b[0m\u001b[0;34m\u001b[0m\u001b[0;34m\u001b[0m\u001b[0m\n",
            "\u001b[0;31mValueError\u001b[0m: No variables found for grid columns."
          ]
        }
      ]
    },
    {
      "cell_type": "code",
      "metadata": {
        "id": "JTHMRpFKltdO"
      },
      "source": [
        "fake_data[:10]"
      ],
      "execution_count": null,
      "outputs": []
    },
    {
      "cell_type": "code",
      "metadata": {
        "id": "neSPfmGhltdQ"
      },
      "source": [
        "def absolute_kendall_error(data, generated):\n",
        "    scores = []\n",
        "    for i in range(data.shape[1]):\n",
        "        data_i = data[:, i]\n",
        "        generated_i = generated[:, i]\n",
        "        # 6.27272727, 6.63636364, 7.72727273, 9.        , 9.72727273\n",
        "        count_data_i = [np.sum(np.array(\n",
        "            list(data_i[:j]) + list(data_i[j+1:])\n",
        "        ) < data_i[j]) for j in range(len(data_i))]\n",
        "        \n",
        "        count_gen_i = [np.sum(np.array(\n",
        "            list(generated_i[:j]) + list(generated_i[j+1:])\n",
        "        ) < generated_i[j]) for j in range(len(generated_i))]\n",
        "        \n",
        "        count_data_i = np.array(count_data_i) / len(count_data_i)\n",
        "        count_gen_i = np.array(count_gen_i) / len(count_gen_i)\n",
        "        \n",
        "        error = sum(abs(d-g) for d,g in zip(count_data_i, count_gen_i))\n",
        "        error /= (len(data_i))\n",
        "        \n",
        "        scores.append(error)\n",
        "    return scores"
      ],
      "execution_count": null,
      "outputs": []
    },
    {
      "cell_type": "code",
      "metadata": {
        "id": "B-OZR7wFltdR"
      },
      "source": [
        "absolute_kendall_error(train_data, fake_data)"
      ],
      "execution_count": null,
      "outputs": []
    },
    {
      "cell_type": "code",
      "metadata": {
        "id": "73gPcas9ltdT"
      },
      "source": [
        "np.mean(absolute_kendall_error(train_data, fake_data))"
      ],
      "execution_count": null,
      "outputs": []
    },
    {
      "cell_type": "code",
      "metadata": {
        "id": "2UCIo2BPltdU"
      },
      "source": [
        ""
      ],
      "execution_count": null,
      "outputs": []
    }
  ]
}